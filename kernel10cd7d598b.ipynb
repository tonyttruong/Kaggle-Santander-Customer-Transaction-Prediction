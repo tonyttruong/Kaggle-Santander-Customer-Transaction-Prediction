{
 "cells": [
  {
   "cell_type": "code",
   "execution_count": 1,
   "metadata": {
    "_cell_guid": "b1076dfc-b9ad-4769-8c92-a6c4dae69d19",
    "_uuid": "8f2839f25d086af736a60e9eeb907d3b93b6e0e5"
   },
   "outputs": [],
   "source": [
    "import numpy as np\n",
    "import pandas as pd\n",
    "import gc\n",
    "import lightgbm as lgb\n",
    "from sklearn.model_selection import StratifiedKFold\n",
    "from scipy.stats import rankdata"
   ]
  },
  {
   "cell_type": "code",
   "execution_count": 2,
   "metadata": {},
   "outputs": [],
   "source": [
    "train_df = pd.read_csv(\"../input/train.csv\")\n",
    "test_df = pd.read_csv(\"../input/test.csv\")\n",
    "\n",
    "features = [x for x in train_df.columns if x.startswith(\"var\")]\n"
   ]
  },
  {
   "cell_type": "code",
   "execution_count": 3,
   "metadata": {},
   "outputs": [],
   "source": [
    "#Reverse features\n",
    "for var in features:\n",
    "    if np.corrcoef( train_df['target'], train_df[var] )[1][0] < 0:\n",
    "        train_df[var] = train_df[var] * -1\n",
    "        test_df[var]  = test_df[var]  * -1"
   ]
  },
  {
   "cell_type": "code",
   "execution_count": 4,
   "metadata": {},
   "outputs": [],
   "source": [
    "#count all values\n",
    "var_stats = {}\n",
    "hist_df = pd.DataFrame()\n",
    "for var in features:\n",
    "    var_stats = train_df[var].append(test_df[var]).value_counts()\n",
    "    hist_df[var] = pd.Series(test_df[var]).map(var_stats)\n",
    "    hist_df[var] = hist_df[var] > 1\n",
    "#remove fake test rows\n",
    "ind = hist_df.sum(axis=1) != 200"
   ]
  },
  {
   "cell_type": "code",
   "execution_count": 5,
   "metadata": {},
   "outputs": [],
   "source": [
    "#recount values without fake rows\n",
    "var_stats = {}\n",
    "for var in features:\n",
    "    var_stats[var] = train_df[var].append(test_df[ind][var]).value_counts()"
   ]
  },
  {
   "cell_type": "code",
   "execution_count": 6,
   "metadata": {},
   "outputs": [],
   "source": [
    "def logit(p):\n",
    "    return np.log(p) - np.log(1 - p)\n",
    "\n",
    "def var_to_feat(vr, var_stats, feat_id ):\n",
    "    new_df = pd.DataFrame()\n",
    "    new_df[\"var\"] = vr.values\n",
    "    new_df[\"hist\"] = pd.Series(vr).map(var_stats)\n",
    "    new_df[\"feature_id\"] = feat_id\n",
    "    new_df[\"var_rank\"] = new_df[\"var\"].rank()/200000.\n",
    "    return new_df.values"
   ]
  },
  {
   "cell_type": "code",
   "execution_count": 7,
   "metadata": {
    "_cell_guid": "79c7e3d0-c299-4dcb-8224-4455121ee9b0",
    "_uuid": "d629ff2d2480ee46fbb7e2d37f6b5fab8052498a"
   },
   "outputs": [
    {
     "name": "stdout",
     "output_type": "stream",
     "text": [
      "(40000000, 4) 40000000\n"
     ]
    }
   ],
   "source": [
    "TARGET = np.array( list(train_df['target'].values) * 200 )\n",
    "\n",
    "TRAIN = []\n",
    "var_mean = {}\n",
    "var_var  = {}\n",
    "for var in features:\n",
    "    tmp = var_to_feat(train_df[var], var_stats[var], int(var[4:]) )\n",
    "    var_mean[var] = np.mean(tmp[:,0]) \n",
    "    var_var[var]  = np.var(tmp[:,0])\n",
    "    tmp[:,0] = (tmp[:,0]-var_mean[var])/var_var[var]\n",
    "    TRAIN.append( tmp )\n",
    "TRAIN = np.vstack( TRAIN )\n",
    "\n",
    "del train_df\n",
    "_=gc.collect()\n",
    "\n",
    "print( TRAIN.shape, len( TARGET ) )"
   ]
  },
  {
   "cell_type": "code",
   "execution_count": 8,
   "metadata": {},
   "outputs": [
    {
     "name": "stdout",
     "output_type": "stream",
     "text": [
      "Fold: 0\n"
     ]
    },
    {
     "name": "stderr",
     "output_type": "stream",
     "text": [
      "/opt/conda/lib/python3.6/site-packages/lightgbm/basic.py:1209: UserWarning: categorical_feature in Dataset is overridden.\n",
      "New categorical_feature is [2]\n",
      "  'New categorical_feature is {}'.format(sorted(list(categorical_feature))))\n"
     ]
    },
    {
     "name": "stdout",
     "output_type": "stream",
     "text": [
      "Training until validation scores don't improve for 25 rounds.\n",
      "[10]\tvalid_0's binary_logloss: 0.325586\tvalid_0's auc: 0.528007\n",
      "[20]\tvalid_0's binary_logloss: 0.325356\tvalid_0's auc: 0.528201\n",
      "[30]\tvalid_0's binary_logloss: 0.325253\tvalid_0's auc: 0.528269\n",
      "[40]\tvalid_0's binary_logloss: 0.325203\tvalid_0's auc: 0.528356\n",
      "[50]\tvalid_0's binary_logloss: 0.325177\tvalid_0's auc: 0.528396\n",
      "[60]\tvalid_0's binary_logloss: 0.325163\tvalid_0's auc: 0.528405\n",
      "[70]\tvalid_0's binary_logloss: 0.325156\tvalid_0's auc: 0.528382\n",
      "[80]\tvalid_0's binary_logloss: 0.325151\tvalid_0's auc: 0.528378\n",
      "Early stopping, best iteration is:\n",
      "[55]\tvalid_0's binary_logloss: 0.325169\tvalid_0's auc: 0.528421\n",
      "Fold: 1\n"
     ]
    },
    {
     "name": "stderr",
     "output_type": "stream",
     "text": [
      "/opt/conda/lib/python3.6/site-packages/lightgbm/basic.py:1209: UserWarning: categorical_feature in Dataset is overridden.\n",
      "New categorical_feature is [2]\n",
      "  'New categorical_feature is {}'.format(sorted(list(categorical_feature))))\n"
     ]
    },
    {
     "name": "stdout",
     "output_type": "stream",
     "text": [
      "Training until validation scores don't improve for 25 rounds.\n",
      "[10]\tvalid_0's binary_logloss: 0.325591\tvalid_0's auc: 0.526874\n",
      "[20]\tvalid_0's binary_logloss: 0.325363\tvalid_0's auc: 0.527129\n",
      "[30]\tvalid_0's binary_logloss: 0.325261\tvalid_0's auc: 0.527225\n",
      "[40]\tvalid_0's binary_logloss: 0.325213\tvalid_0's auc: 0.527317\n",
      "[50]\tvalid_0's binary_logloss: 0.325188\tvalid_0's auc: 0.527387\n",
      "[60]\tvalid_0's binary_logloss: 0.325174\tvalid_0's auc: 0.527431\n",
      "[70]\tvalid_0's binary_logloss: 0.325167\tvalid_0's auc: 0.527434\n",
      "[80]\tvalid_0's binary_logloss: 0.325162\tvalid_0's auc: 0.527446\n",
      "[90]\tvalid_0's binary_logloss: 0.325159\tvalid_0's auc: 0.527446\n",
      "[100]\tvalid_0's binary_logloss: 0.325158\tvalid_0's auc: 0.527424\n",
      "Early stopping, best iteration is:\n",
      "[84]\tvalid_0's binary_logloss: 0.32516\tvalid_0's auc: 0.527457\n",
      "Fold: 2\n"
     ]
    },
    {
     "name": "stderr",
     "output_type": "stream",
     "text": [
      "/opt/conda/lib/python3.6/site-packages/lightgbm/basic.py:1209: UserWarning: categorical_feature in Dataset is overridden.\n",
      "New categorical_feature is [2]\n",
      "  'New categorical_feature is {}'.format(sorted(list(categorical_feature))))\n"
     ]
    },
    {
     "name": "stdout",
     "output_type": "stream",
     "text": [
      "Training until validation scores don't improve for 25 rounds.\n",
      "[10]\tvalid_0's binary_logloss: 0.325583\tvalid_0's auc: 0.528154\n",
      "[20]\tvalid_0's binary_logloss: 0.325349\tvalid_0's auc: 0.528495\n",
      "[30]\tvalid_0's binary_logloss: 0.325244\tvalid_0's auc: 0.52855\n",
      "[40]\tvalid_0's binary_logloss: 0.325194\tvalid_0's auc: 0.528604\n",
      "[50]\tvalid_0's binary_logloss: 0.325168\tvalid_0's auc: 0.528586\n",
      "[60]\tvalid_0's binary_logloss: 0.325155\tvalid_0's auc: 0.528563\n",
      "Early stopping, best iteration is:\n",
      "[41]\tvalid_0's binary_logloss: 0.32519\tvalid_0's auc: 0.528611\n",
      "Fold: 3\n"
     ]
    },
    {
     "name": "stderr",
     "output_type": "stream",
     "text": [
      "/opt/conda/lib/python3.6/site-packages/lightgbm/basic.py:1209: UserWarning: categorical_feature in Dataset is overridden.\n",
      "New categorical_feature is [2]\n",
      "  'New categorical_feature is {}'.format(sorted(list(categorical_feature))))\n"
     ]
    },
    {
     "name": "stdout",
     "output_type": "stream",
     "text": [
      "Training until validation scores don't improve for 25 rounds.\n",
      "[10]\tvalid_0's binary_logloss: 0.325586\tvalid_0's auc: 0.527289\n",
      "[20]\tvalid_0's binary_logloss: 0.325357\tvalid_0's auc: 0.52764\n",
      "[30]\tvalid_0's binary_logloss: 0.325255\tvalid_0's auc: 0.527809\n",
      "[40]\tvalid_0's binary_logloss: 0.325207\tvalid_0's auc: 0.527853\n",
      "[50]\tvalid_0's binary_logloss: 0.325183\tvalid_0's auc: 0.527873\n",
      "[60]\tvalid_0's binary_logloss: 0.32517\tvalid_0's auc: 0.527876\n",
      "[70]\tvalid_0's binary_logloss: 0.325162\tvalid_0's auc: 0.527907\n",
      "[80]\tvalid_0's binary_logloss: 0.325158\tvalid_0's auc: 0.527897\n",
      "[90]\tvalid_0's binary_logloss: 0.325156\tvalid_0's auc: 0.527918\n",
      "[100]\tvalid_0's binary_logloss: 0.325154\tvalid_0's auc: 0.527923\n",
      "[110]\tvalid_0's binary_logloss: 0.325154\tvalid_0's auc: 0.527921\n",
      "[120]\tvalid_0's binary_logloss: 0.325153\tvalid_0's auc: 0.52791\n",
      "[130]\tvalid_0's binary_logloss: 0.325153\tvalid_0's auc: 0.527893\n",
      "Early stopping, best iteration is:\n",
      "[106]\tvalid_0's binary_logloss: 0.325154\tvalid_0's auc: 0.527927\n",
      "Fold: 4\n"
     ]
    },
    {
     "name": "stderr",
     "output_type": "stream",
     "text": [
      "/opt/conda/lib/python3.6/site-packages/lightgbm/basic.py:1209: UserWarning: categorical_feature in Dataset is overridden.\n",
      "New categorical_feature is [2]\n",
      "  'New categorical_feature is {}'.format(sorted(list(categorical_feature))))\n"
     ]
    },
    {
     "name": "stdout",
     "output_type": "stream",
     "text": [
      "Training until validation scores don't improve for 25 rounds.\n",
      "[10]\tvalid_0's binary_logloss: 0.325579\tvalid_0's auc: 0.528635\n",
      "[20]\tvalid_0's binary_logloss: 0.325341\tvalid_0's auc: 0.528838\n",
      "[30]\tvalid_0's binary_logloss: 0.325233\tvalid_0's auc: 0.52902\n",
      "[40]\tvalid_0's binary_logloss: 0.325181\tvalid_0's auc: 0.529106\n",
      "[50]\tvalid_0's binary_logloss: 0.325154\tvalid_0's auc: 0.529139\n",
      "[60]\tvalid_0's binary_logloss: 0.325139\tvalid_0's auc: 0.529153\n",
      "[70]\tvalid_0's binary_logloss: 0.32513\tvalid_0's auc: 0.52915\n",
      "[80]\tvalid_0's binary_logloss: 0.325125\tvalid_0's auc: 0.529171\n",
      "[90]\tvalid_0's binary_logloss: 0.325122\tvalid_0's auc: 0.529169\n",
      "[100]\tvalid_0's binary_logloss: 0.32512\tvalid_0's auc: 0.529176\n",
      "[110]\tvalid_0's binary_logloss: 0.325119\tvalid_0's auc: 0.529166\n",
      "[120]\tvalid_0's binary_logloss: 0.325118\tvalid_0's auc: 0.52918\n",
      "[130]\tvalid_0's binary_logloss: 0.325118\tvalid_0's auc: 0.529186\n",
      "[140]\tvalid_0's binary_logloss: 0.325117\tvalid_0's auc: 0.529202\n",
      "[150]\tvalid_0's binary_logloss: 0.325117\tvalid_0's auc: 0.529204\n",
      "[160]\tvalid_0's binary_logloss: 0.325116\tvalid_0's auc: 0.529217\n",
      "[170]\tvalid_0's binary_logloss: 0.325116\tvalid_0's auc: 0.529222\n",
      "[180]\tvalid_0's binary_logloss: 0.325116\tvalid_0's auc: 0.529215\n",
      "[190]\tvalid_0's binary_logloss: 0.325116\tvalid_0's auc: 0.529211\n",
      "Early stopping, best iteration is:\n",
      "[169]\tvalid_0's binary_logloss: 0.325116\tvalid_0's auc: 0.529222\n",
      "Fold: 5\n"
     ]
    },
    {
     "name": "stderr",
     "output_type": "stream",
     "text": [
      "/opt/conda/lib/python3.6/site-packages/lightgbm/basic.py:1209: UserWarning: categorical_feature in Dataset is overridden.\n",
      "New categorical_feature is [2]\n",
      "  'New categorical_feature is {}'.format(sorted(list(categorical_feature))))\n"
     ]
    },
    {
     "name": "stdout",
     "output_type": "stream",
     "text": [
      "Training until validation scores don't improve for 25 rounds.\n",
      "[10]\tvalid_0's binary_logloss: 0.325597\tvalid_0's auc: 0.528034\n",
      "[20]\tvalid_0's binary_logloss: 0.325369\tvalid_0's auc: 0.528367\n",
      "[30]\tvalid_0's binary_logloss: 0.325268\tvalid_0's auc: 0.528518\n",
      "[40]\tvalid_0's binary_logloss: 0.32522\tvalid_0's auc: 0.528574\n",
      "[50]\tvalid_0's binary_logloss: 0.325195\tvalid_0's auc: 0.528628\n",
      "[60]\tvalid_0's binary_logloss: 0.325181\tvalid_0's auc: 0.528692\n",
      "[70]\tvalid_0's binary_logloss: 0.325174\tvalid_0's auc: 0.528702\n",
      "[80]\tvalid_0's binary_logloss: 0.32517\tvalid_0's auc: 0.528713\n",
      "[90]\tvalid_0's binary_logloss: 0.325167\tvalid_0's auc: 0.52872\n",
      "[100]\tvalid_0's binary_logloss: 0.325165\tvalid_0's auc: 0.528755\n",
      "[110]\tvalid_0's binary_logloss: 0.325165\tvalid_0's auc: 0.528742\n",
      "[120]\tvalid_0's binary_logloss: 0.325164\tvalid_0's auc: 0.528752\n",
      "Early stopping, best iteration is:\n",
      "[100]\tvalid_0's binary_logloss: 0.325165\tvalid_0's auc: 0.528755\n",
      "Fold: 6\n"
     ]
    },
    {
     "name": "stderr",
     "output_type": "stream",
     "text": [
      "/opt/conda/lib/python3.6/site-packages/lightgbm/basic.py:1209: UserWarning: categorical_feature in Dataset is overridden.\n",
      "New categorical_feature is [2]\n",
      "  'New categorical_feature is {}'.format(sorted(list(categorical_feature))))\n"
     ]
    },
    {
     "name": "stdout",
     "output_type": "stream",
     "text": [
      "Training until validation scores don't improve for 25 rounds.\n",
      "[10]\tvalid_0's binary_logloss: 0.325576\tvalid_0's auc: 0.528573\n",
      "[20]\tvalid_0's binary_logloss: 0.325339\tvalid_0's auc: 0.528827\n",
      "[30]\tvalid_0's binary_logloss: 0.325232\tvalid_0's auc: 0.528901\n",
      "[40]\tvalid_0's binary_logloss: 0.32518\tvalid_0's auc: 0.528978\n",
      "[50]\tvalid_0's binary_logloss: 0.325154\tvalid_0's auc: 0.52902\n",
      "[60]\tvalid_0's binary_logloss: 0.325139\tvalid_0's auc: 0.529047\n",
      "[70]\tvalid_0's binary_logloss: 0.32513\tvalid_0's auc: 0.529033\n",
      "[80]\tvalid_0's binary_logloss: 0.325125\tvalid_0's auc: 0.529023\n",
      "Early stopping, best iteration is:\n",
      "[59]\tvalid_0's binary_logloss: 0.32514\tvalid_0's auc: 0.529053\n",
      "Fold: 7\n"
     ]
    },
    {
     "name": "stderr",
     "output_type": "stream",
     "text": [
      "/opt/conda/lib/python3.6/site-packages/lightgbm/basic.py:1209: UserWarning: categorical_feature in Dataset is overridden.\n",
      "New categorical_feature is [2]\n",
      "  'New categorical_feature is {}'.format(sorted(list(categorical_feature))))\n"
     ]
    },
    {
     "name": "stdout",
     "output_type": "stream",
     "text": [
      "Training until validation scores don't improve for 25 rounds.\n",
      "[10]\tvalid_0's binary_logloss: 0.325589\tvalid_0's auc: 0.528384\n",
      "[20]\tvalid_0's binary_logloss: 0.325359\tvalid_0's auc: 0.528671\n",
      "[30]\tvalid_0's binary_logloss: 0.325257\tvalid_0's auc: 0.528747\n",
      "[40]\tvalid_0's binary_logloss: 0.325207\tvalid_0's auc: 0.528807\n",
      "[50]\tvalid_0's binary_logloss: 0.325183\tvalid_0's auc: 0.528839\n",
      "[60]\tvalid_0's binary_logloss: 0.325169\tvalid_0's auc: 0.528865\n",
      "[70]\tvalid_0's binary_logloss: 0.325162\tvalid_0's auc: 0.528869\n",
      "[80]\tvalid_0's binary_logloss: 0.325157\tvalid_0's auc: 0.528885\n",
      "[90]\tvalid_0's binary_logloss: 0.325155\tvalid_0's auc: 0.528879\n",
      "[100]\tvalid_0's binary_logloss: 0.325152\tvalid_0's auc: 0.52889\n",
      "[110]\tvalid_0's binary_logloss: 0.325152\tvalid_0's auc: 0.528882\n",
      "[120]\tvalid_0's binary_logloss: 0.32515\tvalid_0's auc: 0.528886\n",
      "Early stopping, best iteration is:\n",
      "[103]\tvalid_0's binary_logloss: 0.325152\tvalid_0's auc: 0.528893\n",
      "Fold: 8\n"
     ]
    },
    {
     "name": "stderr",
     "output_type": "stream",
     "text": [
      "/opt/conda/lib/python3.6/site-packages/lightgbm/basic.py:1209: UserWarning: categorical_feature in Dataset is overridden.\n",
      "New categorical_feature is [2]\n",
      "  'New categorical_feature is {}'.format(sorted(list(categorical_feature))))\n"
     ]
    },
    {
     "name": "stdout",
     "output_type": "stream",
     "text": [
      "Training until validation scores don't improve for 25 rounds.\n",
      "[10]\tvalid_0's binary_logloss: 0.325588\tvalid_0's auc: 0.527704\n",
      "[20]\tvalid_0's binary_logloss: 0.325357\tvalid_0's auc: 0.528011\n",
      "[30]\tvalid_0's binary_logloss: 0.325253\tvalid_0's auc: 0.528141\n",
      "[40]\tvalid_0's binary_logloss: 0.325204\tvalid_0's auc: 0.528205\n",
      "[50]\tvalid_0's binary_logloss: 0.325179\tvalid_0's auc: 0.528267\n",
      "[60]\tvalid_0's binary_logloss: 0.325165\tvalid_0's auc: 0.528317\n",
      "[70]\tvalid_0's binary_logloss: 0.325158\tvalid_0's auc: 0.528325\n",
      "[80]\tvalid_0's binary_logloss: 0.325153\tvalid_0's auc: 0.528322\n",
      "[90]\tvalid_0's binary_logloss: 0.325151\tvalid_0's auc: 0.528323\n",
      "Early stopping, best iteration is:\n",
      "[68]\tvalid_0's binary_logloss: 0.325159\tvalid_0's auc: 0.528335\n",
      "Fold: 9\n"
     ]
    },
    {
     "name": "stderr",
     "output_type": "stream",
     "text": [
      "/opt/conda/lib/python3.6/site-packages/lightgbm/basic.py:1209: UserWarning: categorical_feature in Dataset is overridden.\n",
      "New categorical_feature is [2]\n",
      "  'New categorical_feature is {}'.format(sorted(list(categorical_feature))))\n"
     ]
    },
    {
     "name": "stdout",
     "output_type": "stream",
     "text": [
      "Training until validation scores don't improve for 25 rounds.\n",
      "[10]\tvalid_0's binary_logloss: 0.325586\tvalid_0's auc: 0.528262\n",
      "[20]\tvalid_0's binary_logloss: 0.325356\tvalid_0's auc: 0.528341\n",
      "[30]\tvalid_0's binary_logloss: 0.325253\tvalid_0's auc: 0.528393\n",
      "[40]\tvalid_0's binary_logloss: 0.325204\tvalid_0's auc: 0.528546\n",
      "[50]\tvalid_0's binary_logloss: 0.325177\tvalid_0's auc: 0.528629\n",
      "[60]\tvalid_0's binary_logloss: 0.325164\tvalid_0's auc: 0.528676\n",
      "[70]\tvalid_0's binary_logloss: 0.325157\tvalid_0's auc: 0.528662\n",
      "[80]\tvalid_0's binary_logloss: 0.325151\tvalid_0's auc: 0.528719\n",
      "[90]\tvalid_0's binary_logloss: 0.325149\tvalid_0's auc: 0.528723\n",
      "[100]\tvalid_0's binary_logloss: 0.325147\tvalid_0's auc: 0.52873\n",
      "[110]\tvalid_0's binary_logloss: 0.325145\tvalid_0's auc: 0.528738\n",
      "[120]\tvalid_0's binary_logloss: 0.325145\tvalid_0's auc: 0.52873\n",
      "[130]\tvalid_0's binary_logloss: 0.325144\tvalid_0's auc: 0.528735\n",
      "Early stopping, best iteration is:\n",
      "[107]\tvalid_0's binary_logloss: 0.325146\tvalid_0's auc: 0.528746\n"
     ]
    }
   ],
   "source": [
    "model = lgb.LGBMClassifier(**{\n",
    "     'learning_rate': 0.04,\n",
    "     'num_leaves': 31,\n",
    "     'max_bin': 1023,\n",
    "     'min_child_samples': 1000,\n",
    "     'reg_alpha': 0.1,\n",
    "     'reg_lambda': 0.2,\n",
    "     'feature_fraction': 1.0,\n",
    "     'bagging_freq': 1,\n",
    "     'bagging_fraction': 0.85,\n",
    "     'objective': 'binary',\n",
    "     'n_jobs': -1,\n",
    "     'n_estimators':200,})\n",
    "\n",
    "MODELS = []\n",
    "skf = StratifiedKFold(n_splits=10, shuffle=True, random_state=11111)\n",
    "for fold_, (train_indexes, valid_indexes) in enumerate(skf.split(TRAIN, TARGET)):\n",
    "    print('Fold:', fold_ )\n",
    "    model = model.fit( TRAIN[train_indexes], TARGET[train_indexes],\n",
    "                      eval_set = (TRAIN[valid_indexes], TARGET[valid_indexes]),\n",
    "                      verbose = 10,\n",
    "                      eval_metric='auc',\n",
    "                      early_stopping_rounds=25,\n",
    "                      categorical_feature = [2] )\n",
    "    MODELS.append( model )\n",
    "\n",
    "del TRAIN, TARGET\n",
    "_=gc.collect()"
   ]
  },
  {
   "cell_type": "code",
   "execution_count": 9,
   "metadata": {},
   "outputs": [
    {
     "name": "stderr",
     "output_type": "stream",
     "text": [
      "/opt/conda/lib/python3.6/site-packages/ipykernel_launcher.py:11: SettingWithCopyWarning: \n",
      "A value is trying to be set on a copy of a slice from a DataFrame.\n",
      "Try using .loc[row_indexer,col_indexer] = value instead\n",
      "\n",
      "See the caveats in the documentation: http://pandas.pydata.org/pandas-docs/stable/indexing.html#indexing-view-versus-copy\n",
      "  # This is added back by InteractiveShellApp.init_path()\n",
      "/opt/conda/lib/python3.6/site-packages/ipykernel_launcher.py:12: SettingWithCopyWarning: \n",
      "A value is trying to be set on a copy of a slice from a DataFrame.\n",
      "Try using .loc[row_indexer,col_indexer] = value instead\n",
      "\n",
      "See the caveats in the documentation: http://pandas.pydata.org/pandas-docs/stable/indexing.html#indexing-view-versus-copy\n",
      "  if sys.path[0] == '':\n"
     ]
    },
    {
     "name": "stdout",
     "output_type": "stream",
     "text": [
      "  ID_code    target\n",
      "0  test_0  0.809585\n",
      "1  test_1  0.867265\n",
      "2  test_2  0.873530\n",
      "3  test_3  0.861945\n",
      "4  test_4  0.753875\n",
      "5  test_5  0.062715\n",
      "6  test_6  0.103695\n",
      "7  test_7  0.639420\n",
      "8  test_8  0.048835\n",
      "9  test_9  0.169635\n"
     ]
    }
   ],
   "source": [
    "ypred = np.zeros( (200000,200) )\n",
    "for feat,var in enumerate(features):\n",
    "    tmp = var_to_feat(test_df[var], var_stats[var], int(var[4:]) )\n",
    "    tmp[:,0] = (tmp[:,0]-var_mean[var])/var_var[var]\n",
    "    for model_id in range(10):\n",
    "        model = MODELS[model_id]\n",
    "        ypred[:,feat] += model.predict_proba( tmp )[:,1] / 10.\n",
    "ypred = np.mean( logit(ypred), axis=1 )\n",
    "\n",
    "sub = test_df[['ID_code']]\n",
    "sub['target'] = ypred\n",
    "sub['target'] = sub['target'].rank() / 200000.\n",
    "sub.to_csv('golden_sub.csv', index=False)\n",
    "print( sub.head(10) )\n"
   ]
  },
  {
   "cell_type": "code",
   "execution_count": 10,
   "metadata": {},
   "outputs": [],
   "source": []
  }
 ],
 "metadata": {
  "kernelspec": {
   "display_name": "Python 3",
   "language": "python",
   "name": "python3"
  },
  "language_info": {
   "codemirror_mode": {
    "name": "ipython",
    "version": 3
   },
   "file_extension": ".py",
   "mimetype": "text/x-python",
   "name": "python",
   "nbconvert_exporter": "python",
   "pygments_lexer": "ipython3",
   "version": "3.6.4"
  }
 },
 "nbformat": 4,
 "nbformat_minor": 1
}
